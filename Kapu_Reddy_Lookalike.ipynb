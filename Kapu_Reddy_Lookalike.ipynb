{
 "cells": [
  {
   "cell_type": "code",
   "execution_count": 20,
   "id": "46fc6dee-1531-4102-96e8-2eb35f7edcfc",
   "metadata": {},
   "outputs": [],
   "source": [
    "import pandas as pd\n",
    "from sklearn.metrics.pairwise import cosine_similarity\n",
    "from sklearn.preprocessing import StandardScaler"
   ]
  },
  {
   "cell_type": "code",
   "execution_count": 21,
   "id": "f19e2e56-3d27-4b22-a41d-5e76c47ddbd6",
   "metadata": {},
   "outputs": [],
   "source": [
    "customers_url = \"https://drive.google.com/uc?id=1bu_--mo79VdUG9oin4ybfFGRUSXAe-WE\"\n",
    "products_url = \"https://drive.google.com/uc?id=1IKuDizVapw-hyktwfpoAoaGtHtTNHfd0\"\n",
    "transactions_url = \"https://drive.google.com/uc?id=1saEqdbBB-vuk2hxoAf4TzDEsykdKlzbF\""
   ]
  },
  {
   "cell_type": "code",
   "execution_count": 22,
   "id": "79cd2448-9ca4-4b22-b328-eba8854244f9",
   "metadata": {},
   "outputs": [],
   "source": [
    "customers_df = pd.read_csv(customers_url)\n",
    "products_df = pd.read_csv(products_url)\n",
    "transactions_df = pd.read_csv(transactions_url)"
   ]
  },
  {
   "cell_type": "code",
   "execution_count": 23,
   "id": "1a9b474b-b15e-42dd-932e-b45ea37321e3",
   "metadata": {},
   "outputs": [],
   "source": [
    "customer_product_df = transactions_df.merge(customers_df, on='CustomerID')\n",
    "customer_product_df = customer_product_df.merge(products_df, on='ProductID')\n"
   ]
  },
  {
   "cell_type": "code",
   "execution_count": 24,
   "id": "83615173-4fe6-48fa-8fac-4263e65ef70b",
   "metadata": {},
   "outputs": [],
   "source": [
    "customer_product_matrix = customer_product_df.pivot_table(\n",
    "    index='CustomerID', columns='ProductID', values='Quantity', fill_value=0\n",
    ")"
   ]
  },
  {
   "cell_type": "code",
   "execution_count": 25,
   "id": "737da4d4-e051-4102-8c62-5fbdee49285a",
   "metadata": {},
   "outputs": [],
   "source": [
    "scaler = StandardScaler()\n",
    "scaled_matrix = scaler.fit_transform(customer_product_matrix)"
   ]
  },
  {
   "cell_type": "code",
   "execution_count": 26,
   "id": "1a7f6700-2c13-4114-ae6b-30c649f2df57",
   "metadata": {},
   "outputs": [],
   "source": [
    "cosine_sim = cosine_similarity(scaled_matrix)\n"
   ]
  },
  {
   "cell_type": "code",
   "execution_count": 33,
   "id": "5f07e70d-1d53-4d80-aac7-4a291de4af46",
   "metadata": {},
   "outputs": [],
   "source": [
    "lookalike_customers = []\n"
   ]
  },
  {
   "cell_type": "code",
   "execution_count": 34,
   "id": "0e340147-72b1-4680-8d10-e41a5331b6c5",
   "metadata": {},
   "outputs": [],
   "source": [
    "for i in range(20):\n",
    "    customer_id = customer_product_matrix.index[i]\n",
    "    sim_scores = list(enumerate(cosine_sim[i]))\n",
    "    sim_scores = sorted(sim_scores, key=lambda x: x[1], reverse=True)\n",
    "    top_3_lookalikes = sim_scores[1:4]  # Exclude the customer itself\n",
    "    for j in range(3):\n",
    "        lookalike_customers.append({\n",
    "            'TargetCustomerID': customer_id,\n",
    "            'LookalikeCustomerID': top_3_lookalikes[j][0],\n",
    "            'SimilarityScore': top_3_lookalikes[j][1]\n",
    "        })"
   ]
  },
  {
   "cell_type": "code",
   "execution_count": 35,
   "id": "15514c52-f154-470e-8a05-ecc0b4bc23b5",
   "metadata": {},
   "outputs": [],
   "source": [
    "lookalike_df = pd.DataFrame(lookalike_customers, columns=['TargetCustomerID', 'LookalikeCustomerID', 'SimilarityScore'])\n"
   ]
  },
  {
   "cell_type": "code",
   "execution_count": 36,
   "id": "b87e250f-2130-43e1-b59d-be61e044fe32",
   "metadata": {},
   "outputs": [],
   "source": [
    "lookalike_df.to_csv(\"Lookalike.csv\", index=False)\n"
   ]
  },
  {
   "cell_type": "code",
   "execution_count": 37,
   "id": "1ab3e180-1741-4381-aee0-32bace9dab25",
   "metadata": {},
   "outputs": [
    {
     "name": "stdout",
     "output_type": "stream",
     "text": [
      "   TargetCustomerID  LookalikeCustomerID  SimilarityScore\n",
      "0             C0001                  192         0.403396\n",
      "1             C0001                   19         0.365399\n",
      "2             C0001                  103         0.342488\n",
      "3             C0002                   90         0.434090\n",
      "4             C0002                   29         0.403653\n",
      "5             C0002                   70         0.320636\n",
      "6             C0003                  179         0.474693\n",
      "7             C0003                  133         0.468545\n",
      "8             C0003                  143         0.408085\n",
      "9             C0004                   69         0.383581\n",
      "10            C0004                  174         0.307140\n",
      "11            C0004                  104         0.269655\n",
      "12            C0005                   95         0.487763\n",
      "13            C0005                   22         0.470563\n",
      "14            C0005                   54         0.378057\n",
      "15            C0006                   39         0.457183\n",
      "16            C0006                  194         0.384194\n",
      "17            C0006                   57         0.375371\n",
      "18            C0007                   78         0.617642\n",
      "19            C0007                  117         0.471684\n",
      "20            C0007                   19         0.457160\n",
      "21            C0008                  143         0.305517\n",
      "22            C0008                   27         0.283117\n",
      "23            C0008                  164         0.266423\n",
      "24            C0009                  139         0.526506\n",
      "25            C0009                   82         0.493134\n",
      "26            C0009                  161         0.471649\n",
      "27            C0010                   93         0.486442\n",
      "28            C0010                  142         0.376438\n",
      "29            C0010                   91         0.355609\n",
      "30            C0011                  134         0.506433\n",
      "31            C0011                  119         0.353361\n",
      "32            C0011                  106         0.297086\n",
      "33            C0012                  100         0.340707\n",
      "34            C0012                   65         0.332383\n",
      "35            C0012                  163         0.329907\n",
      "36            C0013                  168         0.378561\n",
      "37            C0013                   98         0.332908\n",
      "38            C0013                   91         0.308186\n",
      "39            C0014                  127         0.874886\n",
      "40            C0014                  158         0.703126\n",
      "41            C0014                   57         0.398720\n",
      "42            C0015                   72         0.714513\n",
      "43            C0015                   35         0.596554\n",
      "44            C0015                   58         0.449119\n",
      "45            C0016                  185         0.612102\n",
      "46            C0016                   51         0.554417\n",
      "47            C0016                   63         0.481787\n",
      "48            C0017                   70         0.444240\n",
      "49            C0017                   23         0.352356\n",
      "50            C0017                   36         0.341706\n",
      "51            C0018                  176         0.356307\n",
      "52            C0018                  114         0.316803\n",
      "53            C0018                   58         0.303651\n",
      "54            C0019                   63         0.392437\n",
      "55            C0019                   23         0.376385\n",
      "56            C0019                   83         0.343507\n",
      "57            C0020                   25         0.627403\n",
      "58            C0020                    6         0.457160\n",
      "59            C0020                  103         0.433057\n"
     ]
    }
   ],
   "source": [
    "print(lookalike_df)\n"
   ]
  },
  {
   "cell_type": "code",
   "execution_count": null,
   "id": "1db1d99d-40c2-4625-9cf5-2e53b88b9d81",
   "metadata": {},
   "outputs": [],
   "source": []
  }
 ],
 "metadata": {
  "kernelspec": {
   "display_name": "Python 3 (ipykernel)",
   "language": "python",
   "name": "python3"
  },
  "language_info": {
   "codemirror_mode": {
    "name": "ipython",
    "version": 3
   },
   "file_extension": ".py",
   "mimetype": "text/x-python",
   "name": "python",
   "nbconvert_exporter": "python",
   "pygments_lexer": "ipython3",
   "version": "3.13.1"
  }
 },
 "nbformat": 4,
 "nbformat_minor": 5
}
